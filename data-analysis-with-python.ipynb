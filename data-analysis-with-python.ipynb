{
 "cells": [
  {
   "cell_type": "markdown",
   "id": "60a2962b",
   "metadata": {
    "papermill": {
     "duration": 0.009451,
     "end_time": "2023-01-12T07:28:40.300404",
     "exception": false,
     "start_time": "2023-01-12T07:28:40.290953",
     "status": "completed"
    },
    "tags": []
   },
   "source": [
    "___\n",
    "\n",
    "<a href='http://www.pieriandata.com'> <img src='../../Pierian_Data_Logo.png' /></a>\n",
    "___"
   ]
  },
  {
   "cell_type": "markdown",
   "id": "fb5e2208",
   "metadata": {
    "papermill": {
     "duration": 0.007847,
     "end_time": "2023-01-12T07:28:40.316677",
     "exception": false,
     "start_time": "2023-01-12T07:28:40.308830",
     "status": "completed"
    },
    "tags": []
   },
   "source": [
    "# SF Salaries Exercise with Solutions\n",
    "\n",
    "Welcome to a quick exercise for you to practice your pandas skills! We will be using the [SF Salaries Dataset](https://www.kaggle.com/kaggle/sf-salaries) from Kaggle! Just follow along and complete the tasks outlined in bold below. The tasks will get harder and harder as you go along."
   ]
  },
  {
   "cell_type": "markdown",
   "id": "2375416f",
   "metadata": {
    "papermill": {
     "duration": 0.007543,
     "end_time": "2023-01-12T07:28:40.332964",
     "exception": false,
     "start_time": "2023-01-12T07:28:40.325421",
     "status": "completed"
    },
    "tags": []
   },
   "source": [
    "****"
   ]
  },
  {
   "cell_type": "code",
   "execution_count": 1,
   "id": "5b90b195",
   "metadata": {
    "execution": {
     "iopub.execute_input": "2023-01-12T07:28:40.351876Z",
     "iopub.status.busy": "2023-01-12T07:28:40.351155Z",
     "iopub.status.idle": "2023-01-12T07:28:40.364544Z",
     "shell.execute_reply": "2023-01-12T07:28:40.363357Z"
    },
    "papermill": {
     "duration": 0.026807,
     "end_time": "2023-01-12T07:28:40.367423",
     "exception": false,
     "start_time": "2023-01-12T07:28:40.340616",
     "status": "completed"
    },
    "tags": []
   },
   "outputs": [],
   "source": [
    "import pandas as pd"
   ]
  },
  {
   "cell_type": "markdown",
   "id": "ba1cbb64",
   "metadata": {
    "papermill": {
     "duration": 0.007434,
     "end_time": "2023-01-12T07:28:40.382538",
     "exception": false,
     "start_time": "2023-01-12T07:28:40.375104",
     "status": "completed"
    },
    "tags": []
   },
   "source": [
    "###  Read Salaries.csv as a dataframe called sal."
   ]
  },
  {
   "cell_type": "code",
   "execution_count": 2,
   "id": "200e4ce8",
   "metadata": {
    "execution": {
     "iopub.execute_input": "2023-01-12T07:28:40.402052Z",
     "iopub.status.busy": "2023-01-12T07:28:40.401657Z",
     "iopub.status.idle": "2023-01-12T07:28:41.037725Z",
     "shell.execute_reply": "2023-01-12T07:28:41.036471Z"
    },
    "papermill": {
     "duration": 0.650021,
     "end_time": "2023-01-12T07:28:41.040738",
     "exception": false,
     "start_time": "2023-01-12T07:28:40.390717",
     "status": "completed"
    },
    "tags": []
   },
   "outputs": [
    {
     "name": "stderr",
     "output_type": "stream",
     "text": [
      "/opt/conda/lib/python3.7/site-packages/IPython/core/interactiveshell.py:3552: DtypeWarning: Columns (3,4,5,6,12) have mixed types.Specify dtype option on import or set low_memory=False.\n",
      "  exec(code_obj, self.user_global_ns, self.user_ns)\n"
     ]
    }
   ],
   "source": [
    "sal = pd.read_csv('/kaggle/input/sf-salaries/Salaries.csv')"
   ]
  },
  {
   "cell_type": "markdown",
   "id": "1269cb98",
   "metadata": {
    "papermill": {
     "duration": 0.007949,
     "end_time": "2023-01-12T07:28:41.056538",
     "exception": false,
     "start_time": "2023-01-12T07:28:41.048589",
     "status": "completed"
    },
    "tags": []
   },
   "source": [
    "### Check the head of the DataFrame."
   ]
  },
  {
   "cell_type": "code",
   "execution_count": 3,
   "id": "23e32fdd",
   "metadata": {
    "execution": {
     "iopub.execute_input": "2023-01-12T07:28:41.075144Z",
     "iopub.status.busy": "2023-01-12T07:28:41.073985Z",
     "iopub.status.idle": "2023-01-12T07:28:41.105283Z",
     "shell.execute_reply": "2023-01-12T07:28:41.103933Z"
    },
    "papermill": {
     "duration": 0.042945,
     "end_time": "2023-01-12T07:28:41.107670",
     "exception": false,
     "start_time": "2023-01-12T07:28:41.064725",
     "status": "completed"
    },
    "tags": []
   },
   "outputs": [
    {
     "data": {
      "text/html": [
       "<div>\n",
       "<style scoped>\n",
       "    .dataframe tbody tr th:only-of-type {\n",
       "        vertical-align: middle;\n",
       "    }\n",
       "\n",
       "    .dataframe tbody tr th {\n",
       "        vertical-align: top;\n",
       "    }\n",
       "\n",
       "    .dataframe thead th {\n",
       "        text-align: right;\n",
       "    }\n",
       "</style>\n",
       "<table border=\"1\" class=\"dataframe\">\n",
       "  <thead>\n",
       "    <tr style=\"text-align: right;\">\n",
       "      <th></th>\n",
       "      <th>Id</th>\n",
       "      <th>EmployeeName</th>\n",
       "      <th>JobTitle</th>\n",
       "      <th>BasePay</th>\n",
       "      <th>OvertimePay</th>\n",
       "      <th>OtherPay</th>\n",
       "      <th>Benefits</th>\n",
       "      <th>TotalPay</th>\n",
       "      <th>TotalPayBenefits</th>\n",
       "      <th>Year</th>\n",
       "      <th>Notes</th>\n",
       "      <th>Agency</th>\n",
       "      <th>Status</th>\n",
       "    </tr>\n",
       "  </thead>\n",
       "  <tbody>\n",
       "    <tr>\n",
       "      <th>0</th>\n",
       "      <td>1</td>\n",
       "      <td>NATHANIEL FORD</td>\n",
       "      <td>GENERAL MANAGER-METROPOLITAN TRANSIT AUTHORITY</td>\n",
       "      <td>167411.18</td>\n",
       "      <td>0.0</td>\n",
       "      <td>400184.25</td>\n",
       "      <td>NaN</td>\n",
       "      <td>567595.43</td>\n",
       "      <td>567595.43</td>\n",
       "      <td>2011</td>\n",
       "      <td>NaN</td>\n",
       "      <td>San Francisco</td>\n",
       "      <td>NaN</td>\n",
       "    </tr>\n",
       "    <tr>\n",
       "      <th>1</th>\n",
       "      <td>2</td>\n",
       "      <td>GARY JIMENEZ</td>\n",
       "      <td>CAPTAIN III (POLICE DEPARTMENT)</td>\n",
       "      <td>155966.02</td>\n",
       "      <td>245131.88</td>\n",
       "      <td>137811.38</td>\n",
       "      <td>NaN</td>\n",
       "      <td>538909.28</td>\n",
       "      <td>538909.28</td>\n",
       "      <td>2011</td>\n",
       "      <td>NaN</td>\n",
       "      <td>San Francisco</td>\n",
       "      <td>NaN</td>\n",
       "    </tr>\n",
       "    <tr>\n",
       "      <th>2</th>\n",
       "      <td>3</td>\n",
       "      <td>ALBERT PARDINI</td>\n",
       "      <td>CAPTAIN III (POLICE DEPARTMENT)</td>\n",
       "      <td>212739.13</td>\n",
       "      <td>106088.18</td>\n",
       "      <td>16452.6</td>\n",
       "      <td>NaN</td>\n",
       "      <td>335279.91</td>\n",
       "      <td>335279.91</td>\n",
       "      <td>2011</td>\n",
       "      <td>NaN</td>\n",
       "      <td>San Francisco</td>\n",
       "      <td>NaN</td>\n",
       "    </tr>\n",
       "    <tr>\n",
       "      <th>3</th>\n",
       "      <td>4</td>\n",
       "      <td>CHRISTOPHER CHONG</td>\n",
       "      <td>WIRE ROPE CABLE MAINTENANCE MECHANIC</td>\n",
       "      <td>77916.0</td>\n",
       "      <td>56120.71</td>\n",
       "      <td>198306.9</td>\n",
       "      <td>NaN</td>\n",
       "      <td>332343.61</td>\n",
       "      <td>332343.61</td>\n",
       "      <td>2011</td>\n",
       "      <td>NaN</td>\n",
       "      <td>San Francisco</td>\n",
       "      <td>NaN</td>\n",
       "    </tr>\n",
       "    <tr>\n",
       "      <th>4</th>\n",
       "      <td>5</td>\n",
       "      <td>PATRICK GARDNER</td>\n",
       "      <td>DEPUTY CHIEF OF DEPARTMENT,(FIRE DEPARTMENT)</td>\n",
       "      <td>134401.6</td>\n",
       "      <td>9737.0</td>\n",
       "      <td>182234.59</td>\n",
       "      <td>NaN</td>\n",
       "      <td>326373.19</td>\n",
       "      <td>326373.19</td>\n",
       "      <td>2011</td>\n",
       "      <td>NaN</td>\n",
       "      <td>San Francisco</td>\n",
       "      <td>NaN</td>\n",
       "    </tr>\n",
       "  </tbody>\n",
       "</table>\n",
       "</div>"
      ],
      "text/plain": [
       "   Id       EmployeeName                                        JobTitle  \\\n",
       "0   1     NATHANIEL FORD  GENERAL MANAGER-METROPOLITAN TRANSIT AUTHORITY   \n",
       "1   2       GARY JIMENEZ                 CAPTAIN III (POLICE DEPARTMENT)   \n",
       "2   3     ALBERT PARDINI                 CAPTAIN III (POLICE DEPARTMENT)   \n",
       "3   4  CHRISTOPHER CHONG            WIRE ROPE CABLE MAINTENANCE MECHANIC   \n",
       "4   5    PATRICK GARDNER    DEPUTY CHIEF OF DEPARTMENT,(FIRE DEPARTMENT)   \n",
       "\n",
       "     BasePay OvertimePay   OtherPay Benefits   TotalPay  TotalPayBenefits  \\\n",
       "0  167411.18         0.0  400184.25      NaN  567595.43         567595.43   \n",
       "1  155966.02   245131.88  137811.38      NaN  538909.28         538909.28   \n",
       "2  212739.13   106088.18    16452.6      NaN  335279.91         335279.91   \n",
       "3    77916.0    56120.71   198306.9      NaN  332343.61         332343.61   \n",
       "4   134401.6      9737.0  182234.59      NaN  326373.19         326373.19   \n",
       "\n",
       "   Year  Notes         Agency Status  \n",
       "0  2011    NaN  San Francisco    NaN  \n",
       "1  2011    NaN  San Francisco    NaN  \n",
       "2  2011    NaN  San Francisco    NaN  \n",
       "3  2011    NaN  San Francisco    NaN  \n",
       "4  2011    NaN  San Francisco    NaN  "
      ]
     },
     "execution_count": 3,
     "metadata": {},
     "output_type": "execute_result"
    }
   ],
   "source": [
    "sal.head()"
   ]
  },
  {
   "cell_type": "markdown",
   "id": "de2b32d8",
   "metadata": {
    "papermill": {
     "duration": 0.007716,
     "end_time": "2023-01-12T07:28:41.123513",
     "exception": false,
     "start_time": "2023-01-12T07:28:41.115797",
     "status": "completed"
    },
    "tags": []
   },
   "source": [
    "** Use the .info() method to find out how many entries there are.**"
   ]
  },
  {
   "cell_type": "code",
   "execution_count": 4,
   "id": "46ec54f7",
   "metadata": {
    "execution": {
     "iopub.execute_input": "2023-01-12T07:28:41.141722Z",
     "iopub.status.busy": "2023-01-12T07:28:41.140944Z",
     "iopub.status.idle": "2023-01-12T07:28:41.216614Z",
     "shell.execute_reply": "2023-01-12T07:28:41.215328Z"
    },
    "papermill": {
     "duration": 0.088707,
     "end_time": "2023-01-12T07:28:41.220301",
     "exception": false,
     "start_time": "2023-01-12T07:28:41.131594",
     "status": "completed"
    },
    "tags": []
   },
   "outputs": [
    {
     "name": "stdout",
     "output_type": "stream",
     "text": [
      "<class 'pandas.core.frame.DataFrame'>\n",
      "RangeIndex: 148654 entries, 0 to 148653\n",
      "Data columns (total 13 columns):\n",
      " #   Column            Non-Null Count   Dtype  \n",
      "---  ------            --------------   -----  \n",
      " 0   Id                148654 non-null  int64  \n",
      " 1   EmployeeName      148654 non-null  object \n",
      " 2   JobTitle          148654 non-null  object \n",
      " 3   BasePay           148049 non-null  object \n",
      " 4   OvertimePay       148654 non-null  object \n",
      " 5   OtherPay          148654 non-null  object \n",
      " 6   Benefits          112495 non-null  object \n",
      " 7   TotalPay          148654 non-null  float64\n",
      " 8   TotalPayBenefits  148654 non-null  float64\n",
      " 9   Year              148654 non-null  int64  \n",
      " 10  Notes             0 non-null       float64\n",
      " 11  Agency            148654 non-null  object \n",
      " 12  Status            38119 non-null   object \n",
      "dtypes: float64(3), int64(2), object(8)\n",
      "memory usage: 14.7+ MB\n"
     ]
    }
   ],
   "source": [
    "sal.info() # 148654 Entries"
   ]
  },
  {
   "cell_type": "markdown",
   "id": "038f7216",
   "metadata": {
    "papermill": {
     "duration": 0.008144,
     "end_time": "2023-01-12T07:28:41.237762",
     "exception": false,
     "start_time": "2023-01-12T07:28:41.229618",
     "status": "completed"
    },
    "tags": []
   },
   "source": [
    "**What is the average BasePay ?**"
   ]
  },
  {
   "cell_type": "code",
   "execution_count": 5,
   "id": "c2648ace",
   "metadata": {
    "execution": {
     "iopub.execute_input": "2023-01-12T07:28:41.257521Z",
     "iopub.status.busy": "2023-01-12T07:28:41.256139Z",
     "iopub.status.idle": "2023-01-12T07:28:41.260981Z",
     "shell.execute_reply": "2023-01-12T07:28:41.260124Z"
    },
    "papermill": {
     "duration": 0.017088,
     "end_time": "2023-01-12T07:28:41.263066",
     "exception": false,
     "start_time": "2023-01-12T07:28:41.245978",
     "status": "completed"
    },
    "tags": []
   },
   "outputs": [],
   "source": [
    "#sal['BasePay'].mean()"
   ]
  },
  {
   "cell_type": "code",
   "execution_count": 6,
   "id": "d072759b",
   "metadata": {
    "execution": {
     "iopub.execute_input": "2023-01-12T07:28:41.282849Z",
     "iopub.status.busy": "2023-01-12T07:28:41.281376Z",
     "iopub.status.idle": "2023-01-12T07:28:41.303465Z",
     "shell.execute_reply": "2023-01-12T07:28:41.302233Z"
    },
    "papermill": {
     "duration": 0.034812,
     "end_time": "2023-01-12T07:28:41.306563",
     "exception": false,
     "start_time": "2023-01-12T07:28:41.271751",
     "status": "completed"
    },
    "tags": []
   },
   "outputs": [
    {
     "data": {
      "text/plain": [
       "2159"
      ]
     },
     "execution_count": 6,
     "metadata": {},
     "output_type": "execute_result"
    }
   ],
   "source": [
    "sal['JobTitle'].nunique()"
   ]
  },
  {
   "cell_type": "markdown",
   "id": "050a4454",
   "metadata": {
    "papermill": {
     "duration": 0.007977,
     "end_time": "2023-01-12T07:28:41.323809",
     "exception": false,
     "start_time": "2023-01-12T07:28:41.315832",
     "status": "completed"
    },
    "tags": []
   },
   "source": [
    "** What is the highest amount of OvertimePay in the dataset ? **"
   ]
  },
  {
   "cell_type": "code",
   "execution_count": 7,
   "id": "c186cbcd",
   "metadata": {
    "execution": {
     "iopub.execute_input": "2023-01-12T07:28:41.342268Z",
     "iopub.status.busy": "2023-01-12T07:28:41.341830Z",
     "iopub.status.idle": "2023-01-12T07:28:41.346850Z",
     "shell.execute_reply": "2023-01-12T07:28:41.345522Z"
    },
    "papermill": {
     "duration": 0.017172,
     "end_time": "2023-01-12T07:28:41.349181",
     "exception": false,
     "start_time": "2023-01-12T07:28:41.332009",
     "status": "completed"
    },
    "tags": []
   },
   "outputs": [],
   "source": [
    "#sal['OvertimePay'].max()"
   ]
  },
  {
   "cell_type": "markdown",
   "id": "46205bba",
   "metadata": {
    "papermill": {
     "duration": 0.008539,
     "end_time": "2023-01-12T07:28:41.366219",
     "exception": false,
     "start_time": "2023-01-12T07:28:41.357680",
     "status": "completed"
    },
    "tags": []
   },
   "source": [
    "** What is the job title of  JOSEPH DRISCOLL ? Note: Use all caps, otherwise you may get an answer that doesn't match up (there is also a lowercase Joseph Driscoll). **"
   ]
  },
  {
   "cell_type": "code",
   "execution_count": 8,
   "id": "094714f3",
   "metadata": {
    "execution": {
     "iopub.execute_input": "2023-01-12T07:28:41.386601Z",
     "iopub.status.busy": "2023-01-12T07:28:41.385280Z",
     "iopub.status.idle": "2023-01-12T07:28:41.409780Z",
     "shell.execute_reply": "2023-01-12T07:28:41.408714Z"
    },
    "papermill": {
     "duration": 0.037616,
     "end_time": "2023-01-12T07:28:41.412357",
     "exception": false,
     "start_time": "2023-01-12T07:28:41.374741",
     "status": "completed"
    },
    "tags": []
   },
   "outputs": [
    {
     "data": {
      "text/plain": [
       "24    CAPTAIN, FIRE SUPPRESSION\n",
       "Name: JobTitle, dtype: object"
      ]
     },
     "execution_count": 8,
     "metadata": {},
     "output_type": "execute_result"
    }
   ],
   "source": [
    "sal[sal['EmployeeName']=='JOSEPH DRISCOLL']['JobTitle']"
   ]
  },
  {
   "cell_type": "markdown",
   "id": "a91c9a10",
   "metadata": {
    "papermill": {
     "duration": 0.008447,
     "end_time": "2023-01-12T07:28:41.429733",
     "exception": false,
     "start_time": "2023-01-12T07:28:41.421286",
     "status": "completed"
    },
    "tags": []
   },
   "source": [
    "** How much does JOSEPH DRISCOLL make (including benefits)? **"
   ]
  },
  {
   "cell_type": "code",
   "execution_count": 9,
   "id": "2b9fa138",
   "metadata": {
    "execution": {
     "iopub.execute_input": "2023-01-12T07:28:41.449122Z",
     "iopub.status.busy": "2023-01-12T07:28:41.448478Z",
     "iopub.status.idle": "2023-01-12T07:28:41.469752Z",
     "shell.execute_reply": "2023-01-12T07:28:41.468142Z"
    },
    "papermill": {
     "duration": 0.034241,
     "end_time": "2023-01-12T07:28:41.472700",
     "exception": false,
     "start_time": "2023-01-12T07:28:41.438459",
     "status": "completed"
    },
    "tags": []
   },
   "outputs": [
    {
     "data": {
      "text/plain": [
       "24    270324.91\n",
       "Name: TotalPayBenefits, dtype: float64"
      ]
     },
     "execution_count": 9,
     "metadata": {},
     "output_type": "execute_result"
    }
   ],
   "source": [
    "sal[sal['EmployeeName']=='JOSEPH DRISCOLL']['TotalPayBenefits']"
   ]
  },
  {
   "cell_type": "markdown",
   "id": "a1dab2b1",
   "metadata": {
    "papermill": {
     "duration": 0.008335,
     "end_time": "2023-01-12T07:28:41.489768",
     "exception": false,
     "start_time": "2023-01-12T07:28:41.481433",
     "status": "completed"
    },
    "tags": []
   },
   "source": [
    "** What is the name of highest paid person (including benefits)?**"
   ]
  },
  {
   "cell_type": "code",
   "execution_count": 10,
   "id": "8dfe935d",
   "metadata": {
    "execution": {
     "iopub.execute_input": "2023-01-12T07:28:41.509063Z",
     "iopub.status.busy": "2023-01-12T07:28:41.508604Z",
     "iopub.status.idle": "2023-01-12T07:28:41.529245Z",
     "shell.execute_reply": "2023-01-12T07:28:41.527902Z"
    },
    "papermill": {
     "duration": 0.034268,
     "end_time": "2023-01-12T07:28:41.532719",
     "exception": false,
     "start_time": "2023-01-12T07:28:41.498451",
     "status": "completed"
    },
    "tags": []
   },
   "outputs": [
    {
     "data": {
      "text/html": [
       "<div>\n",
       "<style scoped>\n",
       "    .dataframe tbody tr th:only-of-type {\n",
       "        vertical-align: middle;\n",
       "    }\n",
       "\n",
       "    .dataframe tbody tr th {\n",
       "        vertical-align: top;\n",
       "    }\n",
       "\n",
       "    .dataframe thead th {\n",
       "        text-align: right;\n",
       "    }\n",
       "</style>\n",
       "<table border=\"1\" class=\"dataframe\">\n",
       "  <thead>\n",
       "    <tr style=\"text-align: right;\">\n",
       "      <th></th>\n",
       "      <th>Id</th>\n",
       "      <th>EmployeeName</th>\n",
       "      <th>JobTitle</th>\n",
       "      <th>BasePay</th>\n",
       "      <th>OvertimePay</th>\n",
       "      <th>OtherPay</th>\n",
       "      <th>Benefits</th>\n",
       "      <th>TotalPay</th>\n",
       "      <th>TotalPayBenefits</th>\n",
       "      <th>Year</th>\n",
       "      <th>Notes</th>\n",
       "      <th>Agency</th>\n",
       "      <th>Status</th>\n",
       "    </tr>\n",
       "  </thead>\n",
       "  <tbody>\n",
       "    <tr>\n",
       "      <th>0</th>\n",
       "      <td>1</td>\n",
       "      <td>NATHANIEL FORD</td>\n",
       "      <td>GENERAL MANAGER-METROPOLITAN TRANSIT AUTHORITY</td>\n",
       "      <td>167411.18</td>\n",
       "      <td>0.0</td>\n",
       "      <td>400184.25</td>\n",
       "      <td>NaN</td>\n",
       "      <td>567595.43</td>\n",
       "      <td>567595.43</td>\n",
       "      <td>2011</td>\n",
       "      <td>NaN</td>\n",
       "      <td>San Francisco</td>\n",
       "      <td>NaN</td>\n",
       "    </tr>\n",
       "  </tbody>\n",
       "</table>\n",
       "</div>"
      ],
      "text/plain": [
       "   Id    EmployeeName                                        JobTitle  \\\n",
       "0   1  NATHANIEL FORD  GENERAL MANAGER-METROPOLITAN TRANSIT AUTHORITY   \n",
       "\n",
       "     BasePay OvertimePay   OtherPay Benefits   TotalPay  TotalPayBenefits  \\\n",
       "0  167411.18         0.0  400184.25      NaN  567595.43         567595.43   \n",
       "\n",
       "   Year  Notes         Agency Status  \n",
       "0  2011    NaN  San Francisco    NaN  "
      ]
     },
     "execution_count": 10,
     "metadata": {},
     "output_type": "execute_result"
    }
   ],
   "source": [
    "sal[sal['TotalPayBenefits']== sal['TotalPayBenefits'].max()] #['EmployeeName']\n",
    "# or\n",
    "# sal.loc[sal['TotalPayBenefits'].idxmax()]"
   ]
  },
  {
   "cell_type": "markdown",
   "id": "2939edc5",
   "metadata": {
    "papermill": {
     "duration": 0.008866,
     "end_time": "2023-01-12T07:28:41.550673",
     "exception": false,
     "start_time": "2023-01-12T07:28:41.541807",
     "status": "completed"
    },
    "tags": []
   },
   "source": [
    "** What is the name of lowest paid person (including benefits)? Do you notice something strange about how much he or she is paid?**"
   ]
  },
  {
   "cell_type": "code",
   "execution_count": 11,
   "id": "abb878de",
   "metadata": {
    "execution": {
     "iopub.execute_input": "2023-01-12T07:28:41.570811Z",
     "iopub.status.busy": "2023-01-12T07:28:41.570355Z",
     "iopub.status.idle": "2023-01-12T07:28:41.590457Z",
     "shell.execute_reply": "2023-01-12T07:28:41.589122Z"
    },
    "papermill": {
     "duration": 0.033617,
     "end_time": "2023-01-12T07:28:41.593178",
     "exception": false,
     "start_time": "2023-01-12T07:28:41.559561",
     "status": "completed"
    },
    "tags": []
   },
   "outputs": [
    {
     "data": {
      "text/html": [
       "<div>\n",
       "<style scoped>\n",
       "    .dataframe tbody tr th:only-of-type {\n",
       "        vertical-align: middle;\n",
       "    }\n",
       "\n",
       "    .dataframe tbody tr th {\n",
       "        vertical-align: top;\n",
       "    }\n",
       "\n",
       "    .dataframe thead th {\n",
       "        text-align: right;\n",
       "    }\n",
       "</style>\n",
       "<table border=\"1\" class=\"dataframe\">\n",
       "  <thead>\n",
       "    <tr style=\"text-align: right;\">\n",
       "      <th></th>\n",
       "      <th>Id</th>\n",
       "      <th>EmployeeName</th>\n",
       "      <th>JobTitle</th>\n",
       "      <th>BasePay</th>\n",
       "      <th>OvertimePay</th>\n",
       "      <th>OtherPay</th>\n",
       "      <th>Benefits</th>\n",
       "      <th>TotalPay</th>\n",
       "      <th>TotalPayBenefits</th>\n",
       "      <th>Year</th>\n",
       "      <th>Notes</th>\n",
       "      <th>Agency</th>\n",
       "      <th>Status</th>\n",
       "    </tr>\n",
       "  </thead>\n",
       "  <tbody>\n",
       "    <tr>\n",
       "      <th>148653</th>\n",
       "      <td>148654</td>\n",
       "      <td>Joe Lopez</td>\n",
       "      <td>Counselor, Log Cabin Ranch</td>\n",
       "      <td>0.00</td>\n",
       "      <td>0.00</td>\n",
       "      <td>-618.13</td>\n",
       "      <td>0.00</td>\n",
       "      <td>-618.13</td>\n",
       "      <td>-618.13</td>\n",
       "      <td>2014</td>\n",
       "      <td>NaN</td>\n",
       "      <td>San Francisco</td>\n",
       "      <td>PT</td>\n",
       "    </tr>\n",
       "  </tbody>\n",
       "</table>\n",
       "</div>"
      ],
      "text/plain": [
       "            Id EmployeeName                    JobTitle BasePay OvertimePay  \\\n",
       "148653  148654    Joe Lopez  Counselor, Log Cabin Ranch    0.00        0.00   \n",
       "\n",
       "       OtherPay Benefits  TotalPay  TotalPayBenefits  Year  Notes  \\\n",
       "148653  -618.13     0.00   -618.13           -618.13  2014    NaN   \n",
       "\n",
       "               Agency Status  \n",
       "148653  San Francisco     PT  "
      ]
     },
     "execution_count": 11,
     "metadata": {},
     "output_type": "execute_result"
    }
   ],
   "source": [
    "sal[sal['TotalPayBenefits']== sal['TotalPayBenefits'].min()] #['EmployeeName']\n",
    "# or\n",
    "# sal.loc[sal['TotalPayBenefits'].idxmax()]['EmployeeName']\n",
    "\n",
    "## ITS NEGATIVE!! VERY STRANGE"
   ]
  },
  {
   "cell_type": "markdown",
   "id": "80d30f15",
   "metadata": {
    "papermill": {
     "duration": 0.008782,
     "end_time": "2023-01-12T07:28:41.610968",
     "exception": false,
     "start_time": "2023-01-12T07:28:41.602186",
     "status": "completed"
    },
    "tags": []
   },
   "source": [
    "** What was the average (mean) BasePay of all employees per year? (2011-2014) ? **"
   ]
  },
  {
   "cell_type": "code",
   "execution_count": 12,
   "id": "cdd31d62",
   "metadata": {
    "execution": {
     "iopub.execute_input": "2023-01-12T07:28:41.630887Z",
     "iopub.status.busy": "2023-01-12T07:28:41.630388Z",
     "iopub.status.idle": "2023-01-12T07:28:41.635026Z",
     "shell.execute_reply": "2023-01-12T07:28:41.633933Z"
    },
    "papermill": {
     "duration": 0.017616,
     "end_time": "2023-01-12T07:28:41.637496",
     "exception": false,
     "start_time": "2023-01-12T07:28:41.619880",
     "status": "completed"
    },
    "tags": []
   },
   "outputs": [],
   "source": [
    "#sal.groupby('Year').mean()['BasePay']"
   ]
  },
  {
   "cell_type": "markdown",
   "id": "ab779364",
   "metadata": {
    "papermill": {
     "duration": 0.008733,
     "end_time": "2023-01-12T07:28:41.655295",
     "exception": false,
     "start_time": "2023-01-12T07:28:41.646562",
     "status": "completed"
    },
    "tags": []
   },
   "source": [
    "** How many unique job titles are there? **"
   ]
  },
  {
   "cell_type": "code",
   "execution_count": 13,
   "id": "47b87643",
   "metadata": {
    "execution": {
     "iopub.execute_input": "2023-01-12T07:28:41.675106Z",
     "iopub.status.busy": "2023-01-12T07:28:41.674634Z",
     "iopub.status.idle": "2023-01-12T07:28:41.697091Z",
     "shell.execute_reply": "2023-01-12T07:28:41.695542Z"
    },
    "papermill": {
     "duration": 0.035665,
     "end_time": "2023-01-12T07:28:41.699926",
     "exception": false,
     "start_time": "2023-01-12T07:28:41.664261",
     "status": "completed"
    },
    "tags": []
   },
   "outputs": [
    {
     "data": {
      "text/plain": [
       "2159"
      ]
     },
     "execution_count": 13,
     "metadata": {},
     "output_type": "execute_result"
    }
   ],
   "source": [
    "sal['JobTitle'].nunique()"
   ]
  },
  {
   "cell_type": "markdown",
   "id": "0c966a64",
   "metadata": {
    "papermill": {
     "duration": 0.008808,
     "end_time": "2023-01-12T07:28:41.717746",
     "exception": false,
     "start_time": "2023-01-12T07:28:41.708938",
     "status": "completed"
    },
    "tags": []
   },
   "source": [
    "** What are the top 5 most common jobs? **"
   ]
  },
  {
   "cell_type": "code",
   "execution_count": 14,
   "id": "0df2479d",
   "metadata": {
    "execution": {
     "iopub.execute_input": "2023-01-12T07:28:41.738216Z",
     "iopub.status.busy": "2023-01-12T07:28:41.737793Z",
     "iopub.status.idle": "2023-01-12T07:28:41.759809Z",
     "shell.execute_reply": "2023-01-12T07:28:41.758284Z"
    },
    "papermill": {
     "duration": 0.035286,
     "end_time": "2023-01-12T07:28:41.762454",
     "exception": false,
     "start_time": "2023-01-12T07:28:41.727168",
     "status": "completed"
    },
    "tags": []
   },
   "outputs": [
    {
     "data": {
      "text/plain": [
       "Transit Operator                7036\n",
       "Special Nurse                   4389\n",
       "Registered Nurse                3736\n",
       "Public Svc Aide-Public Works    2518\n",
       "Police Officer 3                2421\n",
       "Name: JobTitle, dtype: int64"
      ]
     },
     "execution_count": 14,
     "metadata": {},
     "output_type": "execute_result"
    }
   ],
   "source": [
    "sal['JobTitle'].value_counts().head(5)"
   ]
  },
  {
   "cell_type": "markdown",
   "id": "3258d436",
   "metadata": {
    "papermill": {
     "duration": 0.00905,
     "end_time": "2023-01-12T07:28:41.780743",
     "exception": false,
     "start_time": "2023-01-12T07:28:41.771693",
     "status": "completed"
    },
    "tags": []
   },
   "source": [
    "** How many Job Titles were represented by only one person in 2013? (e.g. Job Titles with only one occurence in 2013?) **"
   ]
  },
  {
   "cell_type": "code",
   "execution_count": 15,
   "id": "44f1535d",
   "metadata": {
    "execution": {
     "iopub.execute_input": "2023-01-12T07:28:41.801067Z",
     "iopub.status.busy": "2023-01-12T07:28:41.800660Z",
     "iopub.status.idle": "2023-01-12T07:28:41.820942Z",
     "shell.execute_reply": "2023-01-12T07:28:41.819409Z"
    },
    "papermill": {
     "duration": 0.034095,
     "end_time": "2023-01-12T07:28:41.824104",
     "exception": false,
     "start_time": "2023-01-12T07:28:41.790009",
     "status": "completed"
    },
    "tags": []
   },
   "outputs": [
    {
     "data": {
      "text/plain": [
       "202"
      ]
     },
     "execution_count": 15,
     "metadata": {},
     "output_type": "execute_result"
    }
   ],
   "source": [
    "sum(sal[sal['Year']==2013]['JobTitle'].value_counts() == 1) # pretty tricky way to do this..."
   ]
  },
  {
   "cell_type": "markdown",
   "id": "9045fad4",
   "metadata": {
    "papermill": {
     "duration": 0.009154,
     "end_time": "2023-01-12T07:28:41.843137",
     "exception": false,
     "start_time": "2023-01-12T07:28:41.833983",
     "status": "completed"
    },
    "tags": []
   },
   "source": [
    "** How many people have the word Chief in their job title? (This is pretty tricky) **"
   ]
  },
  {
   "cell_type": "code",
   "execution_count": 16,
   "id": "030b0c36",
   "metadata": {
    "execution": {
     "iopub.execute_input": "2023-01-12T07:28:41.863791Z",
     "iopub.status.busy": "2023-01-12T07:28:41.863375Z",
     "iopub.status.idle": "2023-01-12T07:28:41.869290Z",
     "shell.execute_reply": "2023-01-12T07:28:41.867938Z"
    },
    "papermill": {
     "duration": 0.019339,
     "end_time": "2023-01-12T07:28:41.871766",
     "exception": false,
     "start_time": "2023-01-12T07:28:41.852427",
     "status": "completed"
    },
    "tags": []
   },
   "outputs": [],
   "source": [
    "def chief_string(title):\n",
    "    if 'chief' in title.lower():\n",
    "        return True\n",
    "    else:\n",
    "        return False"
   ]
  },
  {
   "cell_type": "code",
   "execution_count": 17,
   "id": "1d426fab",
   "metadata": {
    "execution": {
     "iopub.execute_input": "2023-01-12T07:28:41.892389Z",
     "iopub.status.busy": "2023-01-12T07:28:41.891965Z",
     "iopub.status.idle": "2023-01-12T07:28:41.984700Z",
     "shell.execute_reply": "2023-01-12T07:28:41.983279Z"
    },
    "papermill": {
     "duration": 0.106215,
     "end_time": "2023-01-12T07:28:41.987364",
     "exception": false,
     "start_time": "2023-01-12T07:28:41.881149",
     "status": "completed"
    },
    "tags": []
   },
   "outputs": [
    {
     "data": {
      "text/plain": [
       "627"
      ]
     },
     "execution_count": 17,
     "metadata": {},
     "output_type": "execute_result"
    }
   ],
   "source": [
    "sum(sal['JobTitle'].apply(lambda x: chief_string(x)))"
   ]
  },
  {
   "cell_type": "markdown",
   "id": "9c0a7fe2",
   "metadata": {
    "papermill": {
     "duration": 0.009561,
     "end_time": "2023-01-12T07:28:42.006383",
     "exception": false,
     "start_time": "2023-01-12T07:28:41.996822",
     "status": "completed"
    },
    "tags": []
   },
   "source": [
    "** Bonus: Is there a correlation between length of the Job Title string and Salary? **"
   ]
  },
  {
   "cell_type": "code",
   "execution_count": 18,
   "id": "c97e9430",
   "metadata": {
    "execution": {
     "iopub.execute_input": "2023-01-12T07:28:42.027040Z",
     "iopub.status.busy": "2023-01-12T07:28:42.026587Z",
     "iopub.status.idle": "2023-01-12T07:28:42.073075Z",
     "shell.execute_reply": "2023-01-12T07:28:42.071694Z"
    },
    "papermill": {
     "duration": 0.060301,
     "end_time": "2023-01-12T07:28:42.076120",
     "exception": false,
     "start_time": "2023-01-12T07:28:42.015819",
     "status": "completed"
    },
    "tags": []
   },
   "outputs": [],
   "source": [
    "sal['title_len'] = sal['JobTitle'].apply(len)"
   ]
  },
  {
   "cell_type": "code",
   "execution_count": 19,
   "id": "ad285d01",
   "metadata": {
    "execution": {
     "iopub.execute_input": "2023-01-12T07:28:42.097021Z",
     "iopub.status.busy": "2023-01-12T07:28:42.096559Z",
     "iopub.status.idle": "2023-01-12T07:28:42.118370Z",
     "shell.execute_reply": "2023-01-12T07:28:42.116967Z"
    },
    "papermill": {
     "duration": 0.035226,
     "end_time": "2023-01-12T07:28:42.120919",
     "exception": false,
     "start_time": "2023-01-12T07:28:42.085693",
     "status": "completed"
    },
    "tags": []
   },
   "outputs": [
    {
     "data": {
      "text/html": [
       "<div>\n",
       "<style scoped>\n",
       "    .dataframe tbody tr th:only-of-type {\n",
       "        vertical-align: middle;\n",
       "    }\n",
       "\n",
       "    .dataframe tbody tr th {\n",
       "        vertical-align: top;\n",
       "    }\n",
       "\n",
       "    .dataframe thead th {\n",
       "        text-align: right;\n",
       "    }\n",
       "</style>\n",
       "<table border=\"1\" class=\"dataframe\">\n",
       "  <thead>\n",
       "    <tr style=\"text-align: right;\">\n",
       "      <th></th>\n",
       "      <th>title_len</th>\n",
       "      <th>TotalPayBenefits</th>\n",
       "    </tr>\n",
       "  </thead>\n",
       "  <tbody>\n",
       "    <tr>\n",
       "      <th>title_len</th>\n",
       "      <td>1.000000</td>\n",
       "      <td>-0.036878</td>\n",
       "    </tr>\n",
       "    <tr>\n",
       "      <th>TotalPayBenefits</th>\n",
       "      <td>-0.036878</td>\n",
       "      <td>1.000000</td>\n",
       "    </tr>\n",
       "  </tbody>\n",
       "</table>\n",
       "</div>"
      ],
      "text/plain": [
       "                  title_len  TotalPayBenefits\n",
       "title_len          1.000000         -0.036878\n",
       "TotalPayBenefits  -0.036878          1.000000"
      ]
     },
     "execution_count": 19,
     "metadata": {},
     "output_type": "execute_result"
    }
   ],
   "source": [
    "sal[['title_len','TotalPayBenefits']].corr() # No correlation."
   ]
  },
  {
   "cell_type": "markdown",
   "id": "d9ed8c81",
   "metadata": {
    "papermill": {
     "duration": 0.009169,
     "end_time": "2023-01-12T07:28:42.139540",
     "exception": false,
     "start_time": "2023-01-12T07:28:42.130371",
     "status": "completed"
    },
    "tags": []
   },
   "source": [
    "# Great Job!"
   ]
  }
 ],
 "metadata": {
  "kernelspec": {
   "display_name": "Python 3",
   "language": "python",
   "name": "python3"
  },
  "language_info": {
   "codemirror_mode": {
    "name": "ipython",
    "version": 3
   },
   "file_extension": ".py",
   "mimetype": "text/x-python",
   "name": "python",
   "nbconvert_exporter": "python",
   "pygments_lexer": "ipython3",
   "version": "3.7.12"
  },
  "papermill": {
   "default_parameters": {},
   "duration": 12.249991,
   "end_time": "2023-01-12T07:28:42.873481",
   "environment_variables": {},
   "exception": null,
   "input_path": "__notebook__.ipynb",
   "output_path": "__notebook__.ipynb",
   "parameters": {},
   "start_time": "2023-01-12T07:28:30.623490",
   "version": "2.3.4"
  }
 },
 "nbformat": 4,
 "nbformat_minor": 5
}
