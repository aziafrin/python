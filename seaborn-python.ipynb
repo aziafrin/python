{
 "cells": [
  {
   "cell_type": "code",
   "execution_count": 1,
   "id": "68ffcc52",
   "metadata": {
    "_cell_guid": "b1076dfc-b9ad-4769-8c92-a6c4dae69d19",
    "_uuid": "8f2839f25d086af736a60e9eeb907d3b93b6e0e5",
    "execution": {
     "iopub.execute_input": "2023-06-26T11:41:22.756462Z",
     "iopub.status.busy": "2023-06-26T11:41:22.756079Z",
     "iopub.status.idle": "2023-06-26T11:41:24.315430Z",
     "shell.execute_reply": "2023-06-26T11:41:24.314164Z"
    },
    "papermill": {
     "duration": 1.568112,
     "end_time": "2023-06-26T11:41:24.318722",
     "exception": false,
     "start_time": "2023-06-26T11:41:22.750610",
     "status": "completed"
    },
    "tags": []
   },
   "outputs": [],
   "source": [
    "import seaborn as sns"
   ]
  },
  {
   "cell_type": "markdown",
   "id": "0110b6a4",
   "metadata": {
    "papermill": {
     "duration": 0.002895,
     "end_time": "2023-06-26T11:41:24.324990",
     "exception": false,
     "start_time": "2023-06-26T11:41:24.322095",
     "status": "completed"
    },
    "tags": []
   },
   "source": [
    "> To see th visualization inside of jupyter notebook type this: %matplotlib inline"
   ]
  },
  {
   "cell_type": "markdown",
   "id": "314b46a8",
   "metadata": {
    "papermill": {
     "duration": 0.002611,
     "end_time": "2023-06-26T11:41:24.330722",
     "exception": false,
     "start_time": "2023-06-26T11:41:24.328111",
     "status": "completed"
    },
    "tags": []
   },
   "source": [
    "## Distribution Plot"
   ]
  },
  {
   "cell_type": "markdown",
   "id": "3ed4077f",
   "metadata": {
    "papermill": {
     "duration": 0.002577,
     "end_time": "2023-06-26T11:41:24.336138",
     "exception": false,
     "start_time": "2023-06-26T11:41:24.333561",
     "status": "completed"
    },
    "tags": []
   },
   "source": [
    "### Histogram"
   ]
  },
  {
   "cell_type": "code",
   "execution_count": 2,
   "id": "34594e94",
   "metadata": {
    "execution": {
     "iopub.execute_input": "2023-06-26T11:41:24.343749Z",
     "iopub.status.busy": "2023-06-26T11:41:24.343340Z",
     "iopub.status.idle": "2023-06-26T11:41:25.575411Z",
     "shell.execute_reply": "2023-06-26T11:41:25.574452Z"
    },
    "papermill": {
     "duration": 1.238988,
     "end_time": "2023-06-26T11:41:25.577959",
     "exception": false,
     "start_time": "2023-06-26T11:41:24.338971",
     "status": "completed"
    },
    "tags": []
   },
   "outputs": [],
   "source": [
    "tips = sns.load_dataset('tips')"
   ]
  },
  {
   "cell_type": "code",
   "execution_count": 3,
   "id": "52f06969",
   "metadata": {
    "execution": {
     "iopub.execute_input": "2023-06-26T11:41:25.585955Z",
     "iopub.status.busy": "2023-06-26T11:41:25.585536Z",
     "iopub.status.idle": "2023-06-26T11:41:25.617545Z",
     "shell.execute_reply": "2023-06-26T11:41:25.616387Z"
    },
    "papermill": {
     "duration": 0.039245,
     "end_time": "2023-06-26T11:41:25.620414",
     "exception": false,
     "start_time": "2023-06-26T11:41:25.581169",
     "status": "completed"
    },
    "tags": []
   },
   "outputs": [
    {
     "data": {
      "text/html": [
       "<div>\n",
       "<style scoped>\n",
       "    .dataframe tbody tr th:only-of-type {\n",
       "        vertical-align: middle;\n",
       "    }\n",
       "\n",
       "    .dataframe tbody tr th {\n",
       "        vertical-align: top;\n",
       "    }\n",
       "\n",
       "    .dataframe thead th {\n",
       "        text-align: right;\n",
       "    }\n",
       "</style>\n",
       "<table border=\"1\" class=\"dataframe\">\n",
       "  <thead>\n",
       "    <tr style=\"text-align: right;\">\n",
       "      <th></th>\n",
       "      <th>total_bill</th>\n",
       "      <th>tip</th>\n",
       "      <th>sex</th>\n",
       "      <th>smoker</th>\n",
       "      <th>day</th>\n",
       "      <th>time</th>\n",
       "      <th>size</th>\n",
       "    </tr>\n",
       "  </thead>\n",
       "  <tbody>\n",
       "    <tr>\n",
       "      <th>0</th>\n",
       "      <td>16.99</td>\n",
       "      <td>1.01</td>\n",
       "      <td>Female</td>\n",
       "      <td>No</td>\n",
       "      <td>Sun</td>\n",
       "      <td>Dinner</td>\n",
       "      <td>2</td>\n",
       "    </tr>\n",
       "    <tr>\n",
       "      <th>1</th>\n",
       "      <td>10.34</td>\n",
       "      <td>1.66</td>\n",
       "      <td>Male</td>\n",
       "      <td>No</td>\n",
       "      <td>Sun</td>\n",
       "      <td>Dinner</td>\n",
       "      <td>3</td>\n",
       "    </tr>\n",
       "    <tr>\n",
       "      <th>2</th>\n",
       "      <td>21.01</td>\n",
       "      <td>3.50</td>\n",
       "      <td>Male</td>\n",
       "      <td>No</td>\n",
       "      <td>Sun</td>\n",
       "      <td>Dinner</td>\n",
       "      <td>3</td>\n",
       "    </tr>\n",
       "    <tr>\n",
       "      <th>3</th>\n",
       "      <td>23.68</td>\n",
       "      <td>3.31</td>\n",
       "      <td>Male</td>\n",
       "      <td>No</td>\n",
       "      <td>Sun</td>\n",
       "      <td>Dinner</td>\n",
       "      <td>2</td>\n",
       "    </tr>\n",
       "    <tr>\n",
       "      <th>4</th>\n",
       "      <td>24.59</td>\n",
       "      <td>3.61</td>\n",
       "      <td>Female</td>\n",
       "      <td>No</td>\n",
       "      <td>Sun</td>\n",
       "      <td>Dinner</td>\n",
       "      <td>4</td>\n",
       "    </tr>\n",
       "  </tbody>\n",
       "</table>\n",
       "</div>"
      ],
      "text/plain": [
       "   total_bill   tip     sex smoker  day    time  size\n",
       "0       16.99  1.01  Female     No  Sun  Dinner     2\n",
       "1       10.34  1.66    Male     No  Sun  Dinner     3\n",
       "2       21.01  3.50    Male     No  Sun  Dinner     3\n",
       "3       23.68  3.31    Male     No  Sun  Dinner     2\n",
       "4       24.59  3.61  Female     No  Sun  Dinner     4"
      ]
     },
     "execution_count": 3,
     "metadata": {},
     "output_type": "execute_result"
    }
   ],
   "source": [
    "tips.head()"
   ]
  },
  {
   "cell_type": "code",
   "execution_count": 4,
   "id": "5eab31d4",
   "metadata": {
    "execution": {
     "iopub.execute_input": "2023-06-26T11:41:25.628921Z",
     "iopub.status.busy": "2023-06-26T11:41:25.628528Z",
     "iopub.status.idle": "2023-06-26T11:41:25.975960Z",
     "shell.execute_reply": "2023-06-26T11:41:25.974809Z"
    },
    "papermill": {
     "duration": 0.354747,
     "end_time": "2023-06-26T11:41:25.978580",
     "exception": false,
     "start_time": "2023-06-26T11:41:25.623833",
     "status": "completed"
    },
    "tags": []
   },
   "outputs": [
    {
     "name": "stderr",
     "output_type": "stream",
     "text": [
      "/tmp/ipykernel_20/1274391954.py:1: UserWarning: \n",
      "\n",
      "`distplot` is a deprecated function and will be removed in seaborn v0.14.0.\n",
      "\n",
      "Please adapt your code to use either `displot` (a figure-level function with\n",
      "similar flexibility) or `histplot` (an axes-level function for histograms).\n",
      "\n",
      "For a guide to updating your code to use the new functions, please see\n",
      "https://gist.github.com/mwaskom/de44147ed2974457ad6372750bbe5751\n",
      "\n",
      "  sns.distplot(tips['total_bill'],kde=False,bins=30)\n"
     ]
    },
    {
     "data": {
      "text/plain": [
       "<Axes: xlabel='total_bill'>"
      ]
     },
     "execution_count": 4,
     "metadata": {},
     "output_type": "execute_result"
    },
    {
     "data": {
      "image/png": "[encoded data removed]",
      "text/plain": [
       "<Figure size 640x480 with 1 Axes>"
      ]
     },
     "metadata": {},
     "output_type": "display_data"
    }
   ],
   "source": [
    "sns.distplot(tips['total_bill'],kde=False,bins=30)"
   ]
  }
 ],
 "metadata": {
  "kernelspec": {
   "display_name": "Python 3",
   "language": "python",
   "name": "python3"
  },
  "language_info": {
   "codemirror_mode": {
    "name": "ipython",
    "version": 3
   },
   "file_extension": ".py",
   "mimetype": "text/x-python",
   "name": "python",
   "nbconvert_exporter": "python",
   "pygments_lexer": "ipython3",
   "version": "3.10.10"
  },
  "papermill": {
   "default_parameters": {},
   "duration": 16.963028,
   "end_time": "2023-06-26T11:41:26.905282",
   "environment_variables": {},
   "exception": null,
   "input_path": "__notebook__.ipynb",
   "output_path": "__notebook__.ipynb",
   "parameters": {},
   "start_time": "2023-06-26T11:41:09.942254",
   "version": "2.4.0"
  }
 },
 "nbformat": 4,
 "nbformat_minor": 5
}
